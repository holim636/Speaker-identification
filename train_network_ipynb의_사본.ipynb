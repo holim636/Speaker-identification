{
  "nbformat": 4,
  "nbformat_minor": 0,
  "metadata": {
    "accelerator": "GPU",
    "colab": {
      "name": "train_network.ipynb의 사본",
      "provenance": [],
      "collapsed_sections": []
    },
    "kernelspec": {
      "display_name": "Python 3",
      "name": "python3"
    },
    "language_info": {
      "name": "python"
    }
  },
  "cells": [
    {
      "cell_type": "code",
      "metadata": {
        "colab": {
          "base_uri": "https://localhost:8080/"
        },
        "id": "Wcl2SpNpdVru",
        "outputId": "5b4c033c-a148-4b5f-da5c-332435dfb7a8"
      },
      "source": [
        "from google.colab import drive\n",
        "drive.mount('/content/drive', force_remount=True)"
      ],
      "execution_count": null,
      "outputs": [
        {
          "output_type": "stream",
          "text": [
            "Mounted at /content/drive\n"
          ],
          "name": "stdout"
        }
      ]
    },
    {
      "cell_type": "markdown",
      "metadata": {
        "id": "rIZVwIZshjAe"
      },
      "source": [
        "# 1. 데이터 로드"
      ]
    },
    {
      "cell_type": "code",
      "metadata": {
        "colab": {
          "base_uri": "https://localhost:8080/"
        },
        "id": "tResuhrMdRS5",
        "outputId": "35829749-afb1-499e-93ee-159a12bb58e4"
      },
      "source": [
        "import tensorflow as tf\n",
        "import numpy as np\n",
        "import pickle\n",
        "import matplotlib.pyplot as plt\n",
        "\n",
        "# Load data\n",
        "print('Load data...')\n",
        "X = pickle.load(open('/content/drive/MyDrive/train_mfcc_features','rb'))\n",
        "Y = pickle.load(open('/content/drive/MyDrive/train_labels','rb'))"
      ],
      "execution_count": null,
      "outputs": [
        {
          "output_type": "stream",
          "text": [
            "Load data...\n"
          ],
          "name": "stdout"
        }
      ]
    },
    {
      "cell_type": "code",
      "metadata": {
        "id": "tCokpXyOmJNN"
      },
      "source": [
        "# shift 데이터 로드 사용하지 않을경우 주석\n",
        "X_shift = pickle.load(open('/content/drive/MyDrive/train_mfcc_features_shift','rb'))\n",
        "Y_shift = pickle.load(open('/content/drive/MyDrive/train_labels_shift','rb'))"
      ],
      "execution_count": null,
      "outputs": []
    },
    {
      "cell_type": "code",
      "metadata": {
        "id": "7Fa-80pWmFM6"
      },
      "source": [
        "# noise 데이터 로드 사용하지 않을경우 주석\n",
        "X_noise = pickle.load(open('/content/drive/MyDrive/train_mfcc_features_noise','rb'))\n",
        "Y_noise = pickle.load(open('/content/drive/MyDrive/train_labels_noise','rb'))"
      ],
      "execution_count": null,
      "outputs": []
    },
    {
      "cell_type": "code",
      "metadata": {
        "id": "lQysTz1rBXZQ"
      },
      "source": [
        "X_part = pickle.load(open('/content/drive/MyDrive/train_mfcc_features_part','rb'))\n",
        "Y_part = pickle.load(open('/content/drive/MyDrive/train_labels_part','rb'))"
      ],
      "execution_count": null,
      "outputs": []
    },
    {
      "cell_type": "code",
      "metadata": {
        "id": "TD_Tv2v_KCYq"
      },
      "source": [
        "X_extra = pickle.load(open('/content/drive/MyDrive/train_mfcc_features_extra','rb'))\n",
        "Y_extra = pickle.load(open('/content/drive/MyDrive/train_labels_extra','rb'))"
      ],
      "execution_count": null,
      "outputs": []
    },
    {
      "cell_type": "code",
      "metadata": {
        "id": "OJe9Um_APibN"
      },
      "source": [
        "# 데이터를 합해 줍니다\n",
        "# 데이터 증식을 사용하지 않을경우 이부분을 주석처리 하면 됩니다\n",
        "X = np.concatenate((X,X_shift,X_noise,X_part,X_extra),axis=0)\n",
        "Y = np.concatenate((Y,Y_shift,Y_noise,Y_part,Y_extra),axis=0)"
      ],
      "execution_count": null,
      "outputs": []
    },
    {
      "cell_type": "code",
      "metadata": {
        "id": "tQ8nyluTKEc3"
      },
      "source": [
        "#X_train = np.concatenate((X_train,X_train_part),axis=0)\n",
        "#X_test = np.concatenate((X_test,X_test_shift,X_test_noise,X_test_part),axis=0)\n",
        "#Y_train = np.concatenate((Y_train,Y_train_part),axis=0)\n",
        "#Y_test = np.concatenate((Y_test,Y_test_shift,Y_test_noise,Y_test_part),axis=0)"
      ],
      "execution_count": null,
      "outputs": []
    },
    {
      "cell_type": "code",
      "metadata": {
        "id": "-RaODO07KOIy"
      },
      "source": [
        "#X_train = np.concatenate((X_train,X_train_shift),axis=0)\n",
        "#X_test = np.concatenate((X_test,X_test_shift,X_test_noise,X_test_part),axis=0)\n",
        "#Y_train = np.concatenate((Y_train,Y_train_shift),axis=0)\n",
        "#Y_test = np.concatenate((Y_test,Y_test_shift,Y_test_noise,Y_test_part),axis=0)"
      ],
      "execution_count": null,
      "outputs": []
    },
    {
      "cell_type": "code",
      "metadata": {
        "id": "fZ-C-XsoKERK"
      },
      "source": [
        "#X_train = np.concatenate((X_train,X_train_noise),axis=0)\n",
        "#X_test = np.concatenate((X_test,X_test_shift,X_test_noise,X_test_part),axis=0)\n",
        "#Y_train = np.concatenate((Y_train,Y_train_noise),axis=0)\n",
        "#Y_test = np.concatenate((Y_test,Y_test_shift,Y_test_noise,Y_test_part),axis=0)"
      ],
      "execution_count": null,
      "outputs": []
    },
    {
      "cell_type": "code",
      "metadata": {
        "id": "DTtoYRgxZJ4F"
      },
      "source": [
        "#X_train = np.concatenate((X_train,X_train_shift,X_train_noise),axis=0)\n",
        "#X_test = np.concatenate((X_test,X_test_shift,X_test_noise,X_test_part),axis=0)\n",
        "#Y_train = np.concatenate((Y_train,Y_train_shift,Y_train_noise),axis=0)\n",
        "#Y_test = np.concatenate((Y_test,Y_test_shift,Y_test_noise,Y_test_part),axis=0)"
      ],
      "execution_count": null,
      "outputs": []
    },
    {
      "cell_type": "code",
      "metadata": {
        "id": "00Mt1HEfZJyC"
      },
      "source": [
        "#X_train = np.concatenate((X_train,X_train_shift,X_train_part),axis=0)\n",
        "#X_test = np.concatenate((X_test,X_test_shift,X_test_noise,X_test_part),axis=0)\n",
        "#Y_train = np.concatenate((Y_train,Y_train_shift,Y_train_part),axis=0)\n",
        "#Y_test = np.concatenate((Y_test,Y_test_shift,Y_test_noise,Y_test_part),axis=0)"
      ],
      "execution_count": null,
      "outputs": []
    },
    {
      "cell_type": "code",
      "metadata": {
        "id": "jOdnF0r8ZJfQ"
      },
      "source": [
        "#X_train = np.concatenate((X_train,X_train_noise,X_train_part),axis=0)\n",
        "#X_test = np.concatenate((X_test,X_test_shift,X_test_noise,X_test_part),axis=0)\n",
        "#Y_train = np.concatenate((Y_train,Y_train_noise,Y_train_part),axis=0)\n",
        "#Y_test = np.concatenate((Y_test,Y_test_shift,Y_test_noise,Y_test_part),axis=0)"
      ],
      "execution_count": null,
      "outputs": []
    },
    {
      "cell_type": "code",
      "metadata": {
        "colab": {
          "base_uri": "https://localhost:8080/"
        },
        "id": "Kk8SJPf9PMjr",
        "outputId": "a2e2976c-37c5-4e22-e597-cc2e80fa547a"
      },
      "source": [
        "# Reshape the \n",
        "from sklearn.model_selection import train_test_split\n",
        "\n",
        "X_train, X_vali, Y_train, Y_vali = train_test_split(X, Y, test_size = 0.2, random_state = 1)\n",
        "max_length = pickle.load(open('/content/drive/MyDrive/max_length','rb'))\n",
        "X_train = np.expand_dims(X_train, axis=3)\n",
        "X_train = np.transpose(X_train, (0, 2, 1, 3))\n",
        "\n",
        "X_vali = np.expand_dims(X_vali, axis=3)\n",
        "X_vali = np.transpose(X_vali, (0, 2, 1, 3))\n",
        "\n",
        "Y_train = Y_train[:, 0, :]\n",
        "Y_vali = Y_vali[:, 0, :]\n",
        "\n",
        "print('X_train:' , X_train.shape)\n",
        "print('Y_train:' , Y_train.shape)\n",
        "print('X_vali:' , X_vali.shape)\n",
        "print('Y_vali:' , Y_vali.shape)"
      ],
      "execution_count": null,
      "outputs": [
        {
          "output_type": "stream",
          "text": [
            "X_train: (1337, 13, 1229, 1)\n",
            "Y_train: (1337, 22)\n",
            "X_vali: (335, 13, 1229, 1)\n",
            "Y_vali: (335, 22)\n"
          ],
          "name": "stdout"
        }
      ]
    },
    {
      "cell_type": "markdown",
      "metadata": {
        "id": "kuxw3EppS9JV"
      },
      "source": [
        ""
      ]
    },
    {
      "cell_type": "markdown",
      "metadata": {
        "id": "Z3jeaGrZhnRO"
      },
      "source": [
        "#모델 설계\n",
        "\n",
        "학습 데이터는 모두 준비되었고, 이제 학습을 위한 모델을 설계해보겠습니다."
      ]
    },
    {
      "cell_type": "markdown",
      "metadata": {
        "id": "KVLTzw-8t1Yg"
      },
      "source": [
        ""
      ]
    },
    {
      "cell_type": "code",
      "metadata": {
        "id": "1SsQ4dKDJLXG"
      },
      "source": [
        "from tensorflow import keras\n",
        "from keras.models import Sequential, Model\n",
        "from keras.layers import Dense, Dropout, Activation, Flatten, Conv2D, pooling, concatenate, Add, Input, AlphaDropout\n",
        "from keras.optimizers import Nadam\n",
        "from keras.optimizers import Adam\n",
        "from keras.optimizers import Adamax #이런식으로 옵티마이저 추가 하면 됩니다\n",
        "from keras.optimizers import Adadelta\n",
        "from keras.optimizers import RMSprop\n",
        "from keras.optimizers import SGD\n",
        "from keras.regularizers import l2"
      ],
      "execution_count": null,
      "outputs": []
    },
    {
      "cell_type": "code",
      "metadata": {
        "id": "QIphCodriyNM"
      },
      "source": [
        "# 2번 모듈 사용하지 않을경우 주석 \n",
        "#파라미터 변화를 그릴 때 모델을 여러개 설계후 한번에 계산하면 편해서 추가시킨 부분 \n",
        "model = Sequential()\n",
        "model.add(Conv2D(32,2,2,activation='selu', input_shape=(13, 1229, 1)))\n",
        "model.add(Conv2D(32,2,2,activation='selu'))\n",
        "\n",
        "model.add(pooling.MaxPooling2D(pool_size=(2,3)))\n",
        "model.add(AlphaDropout(0.7))\n",
        "\n",
        "model.add(Flatten())\n",
        "model.add(Dense(256,kernel_regularizer=l2(0.001), activation='selu'))\n",
        "model.add(AlphaDropout(0.4))\n",
        "model.add(Dense(128,kernel_regularizer=l2(0.001), activation='selu'))\n",
        "model.add(AlphaDropout(0.4))\n",
        "model.add(Dense(64,kernel_regularizer=l2(0.001), activation='selu'))\n",
        "model.add(AlphaDropout(0.4))\n",
        "\n",
        "model.add(Dense(22, activation='softmax'))"
      ],
      "execution_count": null,
      "outputs": []
    },
    {
      "cell_type": "markdown",
      "metadata": {
        "id": "iA8OzdKmjBGp"
      },
      "source": [
        "이제 모델의 구조 설계는 끝났습니다.\n",
        "\n",
        "2개의 Convolutional layer와 max pooling, dropout과 Fully-connected layer로 구성된 아주 간단한 모델을 구성해 보았습니다.\n",
        "\n",
        "이제 이 모델에 어떠한 loss를 줄 것이고, 어떤 optimizer를 이용해 학습 시킬지 정해보겠습니다\n"
      ]
    },
    {
      "cell_type": "code",
      "metadata": {
        "colab": {
          "base_uri": "https://localhost:8080/"
        },
        "id": "xaEl2yUzb6-i",
        "outputId": "f80a9c32-6499-4c7a-de30-19c179d89e97"
      },
      "source": [
        "model.summary()"
      ],
      "execution_count": null,
      "outputs": [
        {
          "output_type": "stream",
          "text": [
            "Model: \"sequential_1\"\n",
            "_________________________________________________________________\n",
            "Layer (type)                 Output Shape              Param #   \n",
            "=================================================================\n",
            "conv2d_2 (Conv2D)            (None, 6, 614, 32)        160       \n",
            "_________________________________________________________________\n",
            "conv2d_3 (Conv2D)            (None, 3, 307, 32)        4128      \n",
            "_________________________________________________________________\n",
            "max_pooling2d_1 (MaxPooling2 (None, 1, 102, 32)        0         \n",
            "_________________________________________________________________\n",
            "alpha_dropout_4 (AlphaDropou (None, 1, 102, 32)        0         \n",
            "_________________________________________________________________\n",
            "flatten_1 (Flatten)          (None, 3264)              0         \n",
            "_________________________________________________________________\n",
            "dense_4 (Dense)              (None, 256)               835840    \n",
            "_________________________________________________________________\n",
            "alpha_dropout_5 (AlphaDropou (None, 256)               0         \n",
            "_________________________________________________________________\n",
            "dense_5 (Dense)              (None, 128)               32896     \n",
            "_________________________________________________________________\n",
            "alpha_dropout_6 (AlphaDropou (None, 128)               0         \n",
            "_________________________________________________________________\n",
            "dense_6 (Dense)              (None, 64)                8256      \n",
            "_________________________________________________________________\n",
            "alpha_dropout_7 (AlphaDropou (None, 64)                0         \n",
            "_________________________________________________________________\n",
            "dense_7 (Dense)              (None, 22)                1430      \n",
            "=================================================================\n",
            "Total params: 882,710\n",
            "Trainable params: 882,710\n",
            "Non-trainable params: 0\n",
            "_________________________________________________________________\n"
          ],
          "name": "stdout"
        }
      ]
    },
    {
      "cell_type": "code",
      "metadata": {
        "id": "caI-rINniQJZ"
      },
      "source": [
        "# 전체 모델은 sequential 하게 conv layer 및 pooling layer, 그리고 dense로 구성되어있다. \n",
        "# 이제 해당 모델에 어떤 loss를 줄거고, 어떤 optimizer를 쓸지 정해주자. \n",
        "opt = Nadam(learning_rate=0.0005)\n",
        "# 체크 포인트 콜백\n",
        "#모델 2번 사용하지 않을경우 주석\n",
        "model.compile(loss = 'categorical_crossentropy', optimizer = opt, metrics = ['accuracy'])\n"
      ],
      "execution_count": null,
      "outputs": []
    },
    {
      "cell_type": "markdown",
      "metadata": {
        "id": "1x2mzmxvjFiz"
      },
      "source": [
        "학습을 시작하기 전에 설계한 모델의 정보를 출력해봅니다.\n",
        "\n",
        "각 층마다 출력 모양, 파라미터 수를 확인할 수 있습니다."
      ]
    },
    {
      "cell_type": "markdown",
      "metadata": {
        "id": "KaLqZdjbi3fN"
      },
      "source": [
        "#모델 훈련\n",
        "\n",
        "이제, 학습을 시작합니다.\n",
        "\n",
        "Epoch은 전체 데이터에 대한 반복 학습 횟수입니다.\n",
        "\n",
        "학습 도중 각 단계마다 오차(loss)와 정확도(acc)가 출력됩니다.\n",
        "\n",
        "학습이 진행되는 동안 이 둘이 어떻게 변하는지 확인합니다."
      ]
    },
    {
      "cell_type": "code",
      "metadata": {
        "colab": {
          "base_uri": "https://localhost:8080/"
        },
        "id": "PRlczMAmijkF",
        "outputId": "245bf6cf-ff90-4f4f-d4ad-c0664c395ccc"
      },
      "source": [
        "# 실제 Training하는 부분!! (epoch 및 batch size는 필요에 맞게 조정 가능)\n",
        "checkpoint_filepath = '/tmp/checkpoint'\n",
        "model_checkpoint_callback = keras.callbacks.ModelCheckpoint(\n",
        "    filepath=checkpoint_filepath,\n",
        "    save_weights_only=True,\n",
        "    monitor='val_loss',\n",
        "    mode='auto',\n",
        "    save_best_only=True)\n",
        "hist = model.fit(X_train, Y_train, epochs=200, batch_size=30, verbose=1, validation_data=(X_vali, Y_vali), callbacks=[model_checkpoint_callback])\n"
      ],
      "execution_count": null,
      "outputs": [
        {
          "output_type": "stream",
          "text": [
            "Epoch 1/200\n",
            "45/45 [==============================] - 3s 19ms/step - loss: 5.4774 - accuracy: 0.0624 - val_loss: 6.4726 - val_accuracy: 0.0299\n",
            "Epoch 2/200\n",
            "45/45 [==============================] - 0s 8ms/step - loss: 4.4074 - accuracy: 0.0486 - val_loss: 5.6454 - val_accuracy: 0.0597\n",
            "Epoch 3/200\n",
            "45/45 [==============================] - 0s 9ms/step - loss: 4.1513 - accuracy: 0.0700 - val_loss: 4.4428 - val_accuracy: 0.0567\n",
            "Epoch 4/200\n",
            "45/45 [==============================] - 0s 8ms/step - loss: 3.9596 - accuracy: 0.0745 - val_loss: 4.0858 - val_accuracy: 0.0657\n",
            "Epoch 5/200\n",
            "45/45 [==============================] - 0s 8ms/step - loss: 3.8060 - accuracy: 0.0899 - val_loss: 3.6629 - val_accuracy: 0.1015\n",
            "Epoch 6/200\n",
            "45/45 [==============================] - 0s 8ms/step - loss: 3.7279 - accuracy: 0.0977 - val_loss: 3.7260 - val_accuracy: 0.1881\n",
            "Epoch 7/200\n",
            "45/45 [==============================] - 0s 8ms/step - loss: 3.5784 - accuracy: 0.1235 - val_loss: 3.0901 - val_accuracy: 0.3104\n",
            "Epoch 8/200\n",
            "45/45 [==============================] - 0s 8ms/step - loss: 3.3575 - accuracy: 0.1759 - val_loss: 3.4365 - val_accuracy: 0.3493\n",
            "Epoch 9/200\n",
            "45/45 [==============================] - 0s 8ms/step - loss: 3.1776 - accuracy: 0.2012 - val_loss: 3.0892 - val_accuracy: 0.4955\n",
            "Epoch 10/200\n",
            "45/45 [==============================] - 0s 8ms/step - loss: 2.8811 - accuracy: 0.2870 - val_loss: 2.4846 - val_accuracy: 0.5731\n",
            "Epoch 11/200\n",
            "45/45 [==============================] - 0s 8ms/step - loss: 2.7748 - accuracy: 0.3155 - val_loss: 2.6872 - val_accuracy: 0.6179\n",
            "Epoch 12/200\n",
            "45/45 [==============================] - 0s 8ms/step - loss: 2.4988 - accuracy: 0.4062 - val_loss: 1.8761 - val_accuracy: 0.7045\n",
            "Epoch 13/200\n",
            "45/45 [==============================] - 0s 8ms/step - loss: 2.4290 - accuracy: 0.4212 - val_loss: 1.6151 - val_accuracy: 0.7761\n",
            "Epoch 14/200\n",
            "45/45 [==============================] - 0s 8ms/step - loss: 2.2041 - accuracy: 0.5271 - val_loss: 1.7995 - val_accuracy: 0.7910\n",
            "Epoch 15/200\n",
            "45/45 [==============================] - 0s 8ms/step - loss: 2.1012 - accuracy: 0.5203 - val_loss: 1.7248 - val_accuracy: 0.7910\n",
            "Epoch 16/200\n",
            "45/45 [==============================] - 0s 9ms/step - loss: 1.9337 - accuracy: 0.5854 - val_loss: 1.2652 - val_accuracy: 0.8955\n",
            "Epoch 17/200\n",
            "45/45 [==============================] - 0s 9ms/step - loss: 1.7818 - accuracy: 0.6253 - val_loss: 1.1733 - val_accuracy: 0.9194\n",
            "Epoch 18/200\n",
            "45/45 [==============================] - 0s 9ms/step - loss: 1.6815 - accuracy: 0.6688 - val_loss: 1.2064 - val_accuracy: 0.8985\n",
            "Epoch 19/200\n",
            "45/45 [==============================] - 0s 8ms/step - loss: 1.5543 - accuracy: 0.7183 - val_loss: 0.9838 - val_accuracy: 0.9403\n",
            "Epoch 20/200\n",
            "45/45 [==============================] - 0s 8ms/step - loss: 1.5881 - accuracy: 0.6792 - val_loss: 0.9146 - val_accuracy: 0.9493\n",
            "Epoch 21/200\n",
            "45/45 [==============================] - 0s 8ms/step - loss: 1.4783 - accuracy: 0.7323 - val_loss: 0.9057 - val_accuracy: 0.9642\n",
            "Epoch 22/200\n",
            "45/45 [==============================] - 0s 9ms/step - loss: 1.4637 - accuracy: 0.7490 - val_loss: 0.9101 - val_accuracy: 0.9642\n",
            "Epoch 23/200\n",
            "45/45 [==============================] - 0s 8ms/step - loss: 1.3149 - accuracy: 0.7801 - val_loss: 0.9503 - val_accuracy: 0.9612\n",
            "Epoch 24/200\n",
            "45/45 [==============================] - 0s 8ms/step - loss: 1.2616 - accuracy: 0.8074 - val_loss: 0.8730 - val_accuracy: 0.9701\n",
            "Epoch 25/200\n",
            "45/45 [==============================] - 0s 8ms/step - loss: 1.2332 - accuracy: 0.8292 - val_loss: 0.8207 - val_accuracy: 0.9701\n",
            "Epoch 26/200\n",
            "45/45 [==============================] - 0s 8ms/step - loss: 1.2234 - accuracy: 0.8080 - val_loss: 0.8813 - val_accuracy: 0.9731\n",
            "Epoch 27/200\n",
            "45/45 [==============================] - 0s 8ms/step - loss: 1.2068 - accuracy: 0.8265 - val_loss: 0.6913 - val_accuracy: 0.9970\n",
            "Epoch 28/200\n",
            "45/45 [==============================] - 0s 9ms/step - loss: 1.1678 - accuracy: 0.8395 - val_loss: 0.7673 - val_accuracy: 0.9940\n",
            "Epoch 29/200\n",
            "45/45 [==============================] - 0s 8ms/step - loss: 1.0788 - accuracy: 0.8457 - val_loss: 0.8068 - val_accuracy: 0.9791\n",
            "Epoch 30/200\n",
            "45/45 [==============================] - 0s 8ms/step - loss: 1.0545 - accuracy: 0.8732 - val_loss: 0.7559 - val_accuracy: 0.9970\n",
            "Epoch 31/200\n",
            "45/45 [==============================] - 0s 8ms/step - loss: 1.0379 - accuracy: 0.8969 - val_loss: 0.7189 - val_accuracy: 0.9910\n",
            "Epoch 32/200\n",
            "45/45 [==============================] - 0s 8ms/step - loss: 1.0506 - accuracy: 0.8746 - val_loss: 0.9883 - val_accuracy: 0.9910\n",
            "Epoch 33/200\n",
            "45/45 [==============================] - 0s 8ms/step - loss: 1.0383 - accuracy: 0.8805 - val_loss: 0.7332 - val_accuracy: 0.9881\n",
            "Epoch 34/200\n",
            "45/45 [==============================] - 0s 9ms/step - loss: 0.9647 - accuracy: 0.8954 - val_loss: 0.6614 - val_accuracy: 0.9970\n",
            "Epoch 35/200\n",
            "45/45 [==============================] - 0s 8ms/step - loss: 0.9560 - accuracy: 0.9106 - val_loss: 0.7266 - val_accuracy: 0.9940\n",
            "Epoch 36/200\n",
            "45/45 [==============================] - 0s 8ms/step - loss: 1.0118 - accuracy: 0.8948 - val_loss: 0.6717 - val_accuracy: 0.9970\n",
            "Epoch 37/200\n",
            "45/45 [==============================] - 0s 9ms/step - loss: 0.8929 - accuracy: 0.9212 - val_loss: 0.6494 - val_accuracy: 1.0000\n",
            "Epoch 38/200\n",
            "45/45 [==============================] - 0s 8ms/step - loss: 0.8731 - accuracy: 0.9186 - val_loss: 0.6458 - val_accuracy: 1.0000\n",
            "Epoch 39/200\n",
            "45/45 [==============================] - 0s 8ms/step - loss: 0.9014 - accuracy: 0.9152 - val_loss: 0.7646 - val_accuracy: 0.9910\n",
            "Epoch 40/200\n",
            "45/45 [==============================] - 0s 9ms/step - loss: 0.8623 - accuracy: 0.9299 - val_loss: 0.9221 - val_accuracy: 0.9851\n",
            "Epoch 41/200\n",
            "45/45 [==============================] - 0s 8ms/step - loss: 0.8652 - accuracy: 0.9229 - val_loss: 0.8266 - val_accuracy: 0.9940\n",
            "Epoch 42/200\n",
            "45/45 [==============================] - 0s 9ms/step - loss: 0.8677 - accuracy: 0.9284 - val_loss: 0.6409 - val_accuracy: 0.9940\n",
            "Epoch 43/200\n",
            "45/45 [==============================] - 0s 8ms/step - loss: 0.8368 - accuracy: 0.9375 - val_loss: 0.6216 - val_accuracy: 1.0000\n",
            "Epoch 44/200\n",
            "45/45 [==============================] - 0s 9ms/step - loss: 0.8275 - accuracy: 0.9343 - val_loss: 0.6308 - val_accuracy: 0.9940\n",
            "Epoch 45/200\n",
            "45/45 [==============================] - 0s 8ms/step - loss: 0.8246 - accuracy: 0.9340 - val_loss: 0.6138 - val_accuracy: 1.0000\n",
            "Epoch 46/200\n",
            "45/45 [==============================] - 0s 9ms/step - loss: 0.8325 - accuracy: 0.9271 - val_loss: 0.6170 - val_accuracy: 0.9970\n",
            "Epoch 47/200\n",
            "45/45 [==============================] - 0s 8ms/step - loss: 0.7696 - accuracy: 0.9502 - val_loss: 0.6855 - val_accuracy: 0.9970\n",
            "Epoch 48/200\n",
            "45/45 [==============================] - 0s 8ms/step - loss: 0.7709 - accuracy: 0.9528 - val_loss: 0.6218 - val_accuracy: 0.9940\n",
            "Epoch 49/200\n",
            "45/45 [==============================] - 0s 8ms/step - loss: 0.7789 - accuracy: 0.9427 - val_loss: 0.6244 - val_accuracy: 0.9970\n",
            "Epoch 50/200\n",
            "45/45 [==============================] - 0s 8ms/step - loss: 0.7709 - accuracy: 0.9427 - val_loss: 0.6039 - val_accuracy: 0.9970\n",
            "Epoch 51/200\n",
            "45/45 [==============================] - 0s 9ms/step - loss: 0.7672 - accuracy: 0.9523 - val_loss: 0.5902 - val_accuracy: 1.0000\n",
            "Epoch 52/200\n",
            "45/45 [==============================] - 0s 8ms/step - loss: 0.7320 - accuracy: 0.9560 - val_loss: 0.6240 - val_accuracy: 0.9940\n",
            "Epoch 53/200\n",
            "45/45 [==============================] - 0s 9ms/step - loss: 0.7175 - accuracy: 0.9529 - val_loss: 0.5912 - val_accuracy: 0.9970\n",
            "Epoch 54/200\n",
            "45/45 [==============================] - 0s 8ms/step - loss: 0.7230 - accuracy: 0.9582 - val_loss: 0.6109 - val_accuracy: 0.9970\n",
            "Epoch 55/200\n",
            "45/45 [==============================] - 0s 8ms/step - loss: 0.7198 - accuracy: 0.9560 - val_loss: 0.5724 - val_accuracy: 1.0000\n",
            "Epoch 56/200\n",
            "45/45 [==============================] - 0s 8ms/step - loss: 0.6990 - accuracy: 0.9656 - val_loss: 0.5661 - val_accuracy: 1.0000\n",
            "Epoch 57/200\n",
            "45/45 [==============================] - 0s 8ms/step - loss: 0.6925 - accuracy: 0.9583 - val_loss: 0.5633 - val_accuracy: 0.9970\n",
            "Epoch 58/200\n",
            "45/45 [==============================] - 0s 8ms/step - loss: 0.7289 - accuracy: 0.9519 - val_loss: 0.5754 - val_accuracy: 0.9940\n",
            "Epoch 59/200\n",
            "45/45 [==============================] - 0s 8ms/step - loss: 0.6880 - accuracy: 0.9629 - val_loss: 0.5560 - val_accuracy: 0.9970\n",
            "Epoch 60/200\n",
            "45/45 [==============================] - 0s 8ms/step - loss: 0.6508 - accuracy: 0.9709 - val_loss: 0.5476 - val_accuracy: 1.0000\n",
            "Epoch 61/200\n",
            "45/45 [==============================] - 0s 8ms/step - loss: 0.6810 - accuracy: 0.9615 - val_loss: 0.5717 - val_accuracy: 0.9970\n",
            "Epoch 62/200\n",
            "45/45 [==============================] - 0s 8ms/step - loss: 0.6502 - accuracy: 0.9690 - val_loss: 0.5471 - val_accuracy: 0.9970\n",
            "Epoch 63/200\n",
            "45/45 [==============================] - 0s 8ms/step - loss: 0.6474 - accuracy: 0.9713 - val_loss: 0.5731 - val_accuracy: 0.9940\n",
            "Epoch 64/200\n",
            "45/45 [==============================] - 0s 9ms/step - loss: 0.6698 - accuracy: 0.9578 - val_loss: 0.5304 - val_accuracy: 1.0000\n",
            "Epoch 65/200\n",
            "45/45 [==============================] - 0s 8ms/step - loss: 0.6647 - accuracy: 0.9619 - val_loss: 0.5264 - val_accuracy: 1.0000\n",
            "Epoch 66/200\n",
            "45/45 [==============================] - 0s 8ms/step - loss: 0.6107 - accuracy: 0.9744 - val_loss: 0.5257 - val_accuracy: 0.9970\n",
            "Epoch 67/200\n",
            "45/45 [==============================] - 0s 8ms/step - loss: 0.6049 - accuracy: 0.9798 - val_loss: 0.5152 - val_accuracy: 1.0000\n",
            "Epoch 68/200\n",
            "45/45 [==============================] - 0s 9ms/step - loss: 0.6271 - accuracy: 0.9629 - val_loss: 0.5531 - val_accuracy: 0.9910\n",
            "Epoch 69/200\n",
            "45/45 [==============================] - 0s 9ms/step - loss: 0.6198 - accuracy: 0.9699 - val_loss: 0.5451 - val_accuracy: 0.9910\n",
            "Epoch 70/200\n",
            "45/45 [==============================] - 0s 8ms/step - loss: 0.6008 - accuracy: 0.9761 - val_loss: 0.5038 - val_accuracy: 0.9970\n",
            "Epoch 71/200\n",
            "45/45 [==============================] - 0s 9ms/step - loss: 0.6052 - accuracy: 0.9631 - val_loss: 0.5008 - val_accuracy: 0.9970\n",
            "Epoch 72/200\n",
            "45/45 [==============================] - 0s 9ms/step - loss: 0.6510 - accuracy: 0.9535 - val_loss: 0.7132 - val_accuracy: 0.9940\n",
            "Epoch 73/200\n",
            "45/45 [==============================] - 0s 8ms/step - loss: 0.6388 - accuracy: 0.9612 - val_loss: 0.5312 - val_accuracy: 0.9970\n",
            "Epoch 74/200\n",
            "45/45 [==============================] - 0s 8ms/step - loss: 0.5856 - accuracy: 0.9721 - val_loss: 0.6078 - val_accuracy: 0.9970\n",
            "Epoch 75/200\n",
            "45/45 [==============================] - 0s 9ms/step - loss: 0.6319 - accuracy: 0.9574 - val_loss: 0.5555 - val_accuracy: 0.9940\n",
            "Epoch 76/200\n",
            "45/45 [==============================] - 0s 8ms/step - loss: 0.5679 - accuracy: 0.9750 - val_loss: 0.4847 - val_accuracy: 1.0000\n",
            "Epoch 77/200\n",
            "45/45 [==============================] - 0s 8ms/step - loss: 0.5724 - accuracy: 0.9719 - val_loss: 0.6716 - val_accuracy: 0.9940\n",
            "Epoch 78/200\n",
            "45/45 [==============================] - 0s 8ms/step - loss: 0.5671 - accuracy: 0.9735 - val_loss: 0.4786 - val_accuracy: 0.9970\n",
            "Epoch 79/200\n",
            "45/45 [==============================] - 0s 9ms/step - loss: 0.5536 - accuracy: 0.9781 - val_loss: 0.4709 - val_accuracy: 1.0000\n",
            "Epoch 80/200\n",
            "45/45 [==============================] - 0s 9ms/step - loss: 0.5403 - accuracy: 0.9821 - val_loss: 0.6209 - val_accuracy: 0.9940\n",
            "Epoch 81/200\n",
            "45/45 [==============================] - 0s 8ms/step - loss: 0.5352 - accuracy: 0.9811 - val_loss: 0.4609 - val_accuracy: 1.0000\n",
            "Epoch 82/200\n",
            "45/45 [==============================] - 0s 8ms/step - loss: 0.5367 - accuracy: 0.9766 - val_loss: 0.4584 - val_accuracy: 1.0000\n",
            "Epoch 83/200\n",
            "45/45 [==============================] - 0s 8ms/step - loss: 0.5622 - accuracy: 0.9585 - val_loss: 0.4745 - val_accuracy: 0.9970\n",
            "Epoch 84/200\n",
            "45/45 [==============================] - 0s 8ms/step - loss: 0.5527 - accuracy: 0.9757 - val_loss: 0.4543 - val_accuracy: 1.0000\n",
            "Epoch 85/200\n",
            "45/45 [==============================] - 0s 8ms/step - loss: 0.5259 - accuracy: 0.9763 - val_loss: 0.4512 - val_accuracy: 1.0000\n",
            "Epoch 86/200\n",
            "45/45 [==============================] - 0s 8ms/step - loss: 0.5325 - accuracy: 0.9729 - val_loss: 0.4479 - val_accuracy: 1.0000\n",
            "Epoch 87/200\n",
            "45/45 [==============================] - 0s 8ms/step - loss: 0.5311 - accuracy: 0.9772 - val_loss: 0.6430 - val_accuracy: 0.9940\n",
            "Epoch 88/200\n",
            "45/45 [==============================] - 0s 8ms/step - loss: 0.5534 - accuracy: 0.9699 - val_loss: 0.4900 - val_accuracy: 0.9970\n",
            "Epoch 89/200\n",
            "45/45 [==============================] - 0s 8ms/step - loss: 0.5356 - accuracy: 0.9658 - val_loss: 0.4739 - val_accuracy: 0.9970\n",
            "Epoch 90/200\n",
            "45/45 [==============================] - 0s 8ms/step - loss: 0.5028 - accuracy: 0.9797 - val_loss: 0.4398 - val_accuracy: 1.0000\n",
            "Epoch 91/200\n",
            "45/45 [==============================] - 0s 8ms/step - loss: 0.5128 - accuracy: 0.9783 - val_loss: 0.4823 - val_accuracy: 0.9940\n",
            "Epoch 92/200\n",
            "45/45 [==============================] - 0s 9ms/step - loss: 0.5274 - accuracy: 0.9755 - val_loss: 0.4367 - val_accuracy: 1.0000\n",
            "Epoch 93/200\n",
            "45/45 [==============================] - 0s 9ms/step - loss: 0.5172 - accuracy: 0.9705 - val_loss: 0.6236 - val_accuracy: 0.9881\n",
            "Epoch 94/200\n",
            "45/45 [==============================] - 0s 9ms/step - loss: 0.5274 - accuracy: 0.9698 - val_loss: 0.5199 - val_accuracy: 0.9970\n",
            "Epoch 95/200\n",
            "45/45 [==============================] - 0s 9ms/step - loss: 0.5170 - accuracy: 0.9765 - val_loss: 0.6469 - val_accuracy: 0.9940\n",
            "Epoch 96/200\n",
            "45/45 [==============================] - 0s 8ms/step - loss: 0.5110 - accuracy: 0.9742 - val_loss: 0.4324 - val_accuracy: 1.0000\n",
            "Epoch 97/200\n",
            "45/45 [==============================] - 0s 8ms/step - loss: 0.5048 - accuracy: 0.9790 - val_loss: 0.4469 - val_accuracy: 0.9970\n",
            "Epoch 98/200\n",
            "45/45 [==============================] - 0s 8ms/step - loss: 0.5093 - accuracy: 0.9710 - val_loss: 0.4494 - val_accuracy: 0.9970\n",
            "Epoch 99/200\n",
            "45/45 [==============================] - 0s 9ms/step - loss: 0.5017 - accuracy: 0.9762 - val_loss: 0.8112 - val_accuracy: 0.9910\n",
            "Epoch 100/200\n",
            "45/45 [==============================] - 0s 8ms/step - loss: 0.5086 - accuracy: 0.9746 - val_loss: 0.7097 - val_accuracy: 0.9940\n",
            "Epoch 101/200\n",
            "45/45 [==============================] - 0s 8ms/step - loss: 0.4884 - accuracy: 0.9854 - val_loss: 0.6762 - val_accuracy: 0.9940\n",
            "Epoch 102/200\n",
            "45/45 [==============================] - 0s 8ms/step - loss: 0.4882 - accuracy: 0.9792 - val_loss: 0.4345 - val_accuracy: 0.9970\n",
            "Epoch 103/200\n",
            "45/45 [==============================] - 0s 9ms/step - loss: 0.4817 - accuracy: 0.9799 - val_loss: 0.4744 - val_accuracy: 0.9970\n",
            "Epoch 104/200\n",
            "45/45 [==============================] - 0s 9ms/step - loss: 0.5348 - accuracy: 0.9655 - val_loss: 0.4744 - val_accuracy: 0.9940\n",
            "Epoch 105/200\n",
            "45/45 [==============================] - 0s 8ms/step - loss: 0.4945 - accuracy: 0.9753 - val_loss: 0.4152 - val_accuracy: 1.0000\n",
            "Epoch 106/200\n",
            "45/45 [==============================] - 0s 8ms/step - loss: 0.4851 - accuracy: 0.9812 - val_loss: 0.4297 - val_accuracy: 0.9970\n",
            "Epoch 107/200\n",
            "45/45 [==============================] - 0s 8ms/step - loss: 0.4684 - accuracy: 0.9847 - val_loss: 0.4078 - val_accuracy: 1.0000\n",
            "Epoch 108/200\n",
            "45/45 [==============================] - 0s 8ms/step - loss: 0.4728 - accuracy: 0.9766 - val_loss: 0.4041 - val_accuracy: 1.0000\n",
            "Epoch 109/200\n",
            "45/45 [==============================] - 0s 8ms/step - loss: 0.4925 - accuracy: 0.9707 - val_loss: 0.6829 - val_accuracy: 0.9970\n",
            "Epoch 110/200\n",
            "45/45 [==============================] - 0s 8ms/step - loss: 0.4838 - accuracy: 0.9729 - val_loss: 0.4741 - val_accuracy: 0.9940\n",
            "Epoch 111/200\n",
            "45/45 [==============================] - 0s 8ms/step - loss: 0.4898 - accuracy: 0.9732 - val_loss: 0.4658 - val_accuracy: 0.9970\n",
            "Epoch 112/200\n",
            "45/45 [==============================] - 0s 9ms/step - loss: 0.4431 - accuracy: 0.9906 - val_loss: 0.4245 - val_accuracy: 0.9970\n",
            "Epoch 113/200\n",
            "45/45 [==============================] - 0s 8ms/step - loss: 0.4796 - accuracy: 0.9693 - val_loss: 0.5084 - val_accuracy: 0.9940\n",
            "Epoch 114/200\n",
            "45/45 [==============================] - 0s 8ms/step - loss: 0.4879 - accuracy: 0.9691 - val_loss: 0.5803 - val_accuracy: 0.9940\n",
            "Epoch 115/200\n",
            "45/45 [==============================] - 0s 9ms/step - loss: 0.4507 - accuracy: 0.9784 - val_loss: 0.3905 - val_accuracy: 1.0000\n",
            "Epoch 116/200\n",
            "45/45 [==============================] - 0s 8ms/step - loss: 0.4628 - accuracy: 0.9866 - val_loss: 0.4180 - val_accuracy: 0.9940\n",
            "Epoch 117/200\n",
            "45/45 [==============================] - 0s 8ms/step - loss: 0.4377 - accuracy: 0.9864 - val_loss: 0.3891 - val_accuracy: 0.9970\n",
            "Epoch 118/200\n",
            "45/45 [==============================] - 0s 9ms/step - loss: 0.4578 - accuracy: 0.9783 - val_loss: 0.4494 - val_accuracy: 0.9910\n",
            "Epoch 119/200\n",
            "45/45 [==============================] - 0s 8ms/step - loss: 0.4791 - accuracy: 0.9749 - val_loss: 0.3848 - val_accuracy: 1.0000\n",
            "Epoch 120/200\n",
            "45/45 [==============================] - 0s 9ms/step - loss: 0.4799 - accuracy: 0.9637 - val_loss: 0.5890 - val_accuracy: 0.9910\n",
            "Epoch 121/200\n",
            "45/45 [==============================] - 0s 9ms/step - loss: 0.4773 - accuracy: 0.9773 - val_loss: 0.3863 - val_accuracy: 1.0000\n",
            "Epoch 122/200\n",
            "45/45 [==============================] - 0s 9ms/step - loss: 0.4842 - accuracy: 0.9708 - val_loss: 0.4122 - val_accuracy: 0.9970\n",
            "Epoch 123/200\n",
            "45/45 [==============================] - 0s 8ms/step - loss: 0.4972 - accuracy: 0.9655 - val_loss: 0.4688 - val_accuracy: 0.9970\n",
            "Epoch 124/200\n",
            "45/45 [==============================] - 0s 8ms/step - loss: 0.4630 - accuracy: 0.9723 - val_loss: 0.4291 - val_accuracy: 0.9970\n",
            "Epoch 125/200\n",
            "45/45 [==============================] - 0s 8ms/step - loss: 0.4507 - accuracy: 0.9814 - val_loss: 0.4037 - val_accuracy: 0.9970\n",
            "Epoch 126/200\n",
            "45/45 [==============================] - 0s 9ms/step - loss: 0.4303 - accuracy: 0.9890 - val_loss: 0.3783 - val_accuracy: 1.0000\n",
            "Epoch 127/200\n",
            "45/45 [==============================] - 0s 8ms/step - loss: 0.4548 - accuracy: 0.9795 - val_loss: 0.3747 - val_accuracy: 1.0000\n",
            "Epoch 128/200\n",
            "45/45 [==============================] - 0s 8ms/step - loss: 0.4320 - accuracy: 0.9861 - val_loss: 0.3715 - val_accuracy: 1.0000\n",
            "Epoch 129/200\n",
            "45/45 [==============================] - 0s 9ms/step - loss: 0.4270 - accuracy: 0.9875 - val_loss: 0.3676 - val_accuracy: 1.0000\n",
            "Epoch 130/200\n",
            "45/45 [==============================] - 0s 8ms/step - loss: 0.4701 - accuracy: 0.9655 - val_loss: 0.3712 - val_accuracy: 0.9970\n",
            "Epoch 131/200\n",
            "45/45 [==============================] - 0s 9ms/step - loss: 0.4551 - accuracy: 0.9740 - val_loss: 0.4700 - val_accuracy: 0.9970\n",
            "Epoch 132/200\n",
            "45/45 [==============================] - 0s 8ms/step - loss: 0.4167 - accuracy: 0.9849 - val_loss: 0.3643 - val_accuracy: 1.0000\n",
            "Epoch 133/200\n",
            "45/45 [==============================] - 0s 9ms/step - loss: 0.4443 - accuracy: 0.9745 - val_loss: 0.3611 - val_accuracy: 1.0000\n",
            "Epoch 134/200\n",
            "45/45 [==============================] - 0s 8ms/step - loss: 0.4141 - accuracy: 0.9842 - val_loss: 0.4081 - val_accuracy: 0.9910\n",
            "Epoch 135/200\n",
            "45/45 [==============================] - 0s 9ms/step - loss: 0.4146 - accuracy: 0.9862 - val_loss: 0.3563 - val_accuracy: 1.0000\n",
            "Epoch 136/200\n",
            "45/45 [==============================] - 0s 8ms/step - loss: 0.4171 - accuracy: 0.9811 - val_loss: 0.3718 - val_accuracy: 0.9970\n",
            "Epoch 137/200\n",
            "45/45 [==============================] - 0s 8ms/step - loss: 0.4144 - accuracy: 0.9820 - val_loss: 0.5410 - val_accuracy: 0.9940\n",
            "Epoch 138/200\n",
            "45/45 [==============================] - 0s 8ms/step - loss: 0.4226 - accuracy: 0.9806 - val_loss: 0.3791 - val_accuracy: 0.9970\n",
            "Epoch 139/200\n",
            "45/45 [==============================] - 0s 8ms/step - loss: 0.4104 - accuracy: 0.9766 - val_loss: 0.5115 - val_accuracy: 0.9940\n",
            "Epoch 140/200\n",
            "45/45 [==============================] - 0s 8ms/step - loss: 0.4041 - accuracy: 0.9842 - val_loss: 0.3523 - val_accuracy: 0.9970\n",
            "Epoch 141/200\n",
            "45/45 [==============================] - 0s 8ms/step - loss: 0.4039 - accuracy: 0.9788 - val_loss: 0.6411 - val_accuracy: 0.9881\n",
            "Epoch 142/200\n",
            "45/45 [==============================] - 0s 8ms/step - loss: 0.4506 - accuracy: 0.9757 - val_loss: 0.3679 - val_accuracy: 0.9970\n",
            "Epoch 143/200\n",
            "45/45 [==============================] - 0s 8ms/step - loss: 0.4205 - accuracy: 0.9776 - val_loss: 0.3529 - val_accuracy: 0.9970\n",
            "Epoch 144/200\n",
            "45/45 [==============================] - 0s 9ms/step - loss: 0.3919 - accuracy: 0.9870 - val_loss: 0.3725 - val_accuracy: 0.9970\n",
            "Epoch 145/200\n",
            "45/45 [==============================] - 0s 8ms/step - loss: 0.4260 - accuracy: 0.9788 - val_loss: 0.4387 - val_accuracy: 0.9940\n",
            "Epoch 146/200\n",
            "45/45 [==============================] - 0s 8ms/step - loss: 0.4011 - accuracy: 0.9826 - val_loss: 0.3864 - val_accuracy: 0.9970\n",
            "Epoch 147/200\n",
            "45/45 [==============================] - 0s 8ms/step - loss: 0.4258 - accuracy: 0.9802 - val_loss: 0.7016 - val_accuracy: 0.9940\n",
            "Epoch 148/200\n",
            "45/45 [==============================] - 0s 9ms/step - loss: 0.3975 - accuracy: 0.9854 - val_loss: 0.4655 - val_accuracy: 0.9970\n",
            "Epoch 149/200\n",
            "45/45 [==============================] - 0s 9ms/step - loss: 0.4310 - accuracy: 0.9722 - val_loss: 0.3742 - val_accuracy: 0.9970\n",
            "Epoch 150/200\n",
            "45/45 [==============================] - 0s 9ms/step - loss: 0.4150 - accuracy: 0.9794 - val_loss: 0.3466 - val_accuracy: 1.0000\n",
            "Epoch 151/200\n",
            "45/45 [==============================] - 0s 9ms/step - loss: 0.3788 - accuracy: 0.9907 - val_loss: 0.3438 - val_accuracy: 1.0000\n",
            "Epoch 152/200\n",
            "45/45 [==============================] - 0s 9ms/step - loss: 0.4114 - accuracy: 0.9673 - val_loss: 0.3447 - val_accuracy: 1.0000\n",
            "Epoch 153/200\n",
            "45/45 [==============================] - 0s 8ms/step - loss: 0.4224 - accuracy: 0.9735 - val_loss: 0.4134 - val_accuracy: 0.9970\n",
            "Epoch 154/200\n",
            "45/45 [==============================] - 0s 9ms/step - loss: 0.4050 - accuracy: 0.9851 - val_loss: 0.3454 - val_accuracy: 1.0000\n",
            "Epoch 155/200\n",
            "45/45 [==============================] - 0s 8ms/step - loss: 0.4100 - accuracy: 0.9801 - val_loss: 0.4045 - val_accuracy: 0.9940\n",
            "Epoch 156/200\n",
            "45/45 [==============================] - 0s 8ms/step - loss: 0.3949 - accuracy: 0.9839 - val_loss: 0.3558 - val_accuracy: 0.9970\n",
            "Epoch 157/200\n",
            "45/45 [==============================] - 0s 9ms/step - loss: 0.3884 - accuracy: 0.9854 - val_loss: 0.3778 - val_accuracy: 0.9970\n",
            "Epoch 158/200\n",
            "45/45 [==============================] - 0s 8ms/step - loss: 0.4038 - accuracy: 0.9783 - val_loss: 0.3956 - val_accuracy: 0.9970\n",
            "Epoch 159/200\n",
            "45/45 [==============================] - 0s 9ms/step - loss: 0.3907 - accuracy: 0.9884 - val_loss: 0.4386 - val_accuracy: 0.9940\n",
            "Epoch 160/200\n",
            "45/45 [==============================] - 0s 8ms/step - loss: 0.3759 - accuracy: 0.9882 - val_loss: 0.6475 - val_accuracy: 0.9910\n",
            "Epoch 161/200\n",
            "45/45 [==============================] - 0s 8ms/step - loss: 0.3773 - accuracy: 0.9882 - val_loss: 0.5020 - val_accuracy: 0.9940\n",
            "Epoch 162/200\n",
            "45/45 [==============================] - 0s 8ms/step - loss: 0.4094 - accuracy: 0.9796 - val_loss: 0.3370 - val_accuracy: 1.0000\n",
            "Epoch 163/200\n",
            "45/45 [==============================] - 0s 9ms/step - loss: 0.4056 - accuracy: 0.9790 - val_loss: 0.3840 - val_accuracy: 0.9970\n",
            "Epoch 164/200\n",
            "45/45 [==============================] - 0s 9ms/step - loss: 0.3858 - accuracy: 0.9821 - val_loss: 0.3468 - val_accuracy: 0.9970\n",
            "Epoch 165/200\n",
            "45/45 [==============================] - 0s 9ms/step - loss: 0.3880 - accuracy: 0.9871 - val_loss: 0.3354 - val_accuracy: 1.0000\n",
            "Epoch 166/200\n",
            "45/45 [==============================] - 0s 9ms/step - loss: 0.4085 - accuracy: 0.9810 - val_loss: 0.4562 - val_accuracy: 0.9851\n",
            "Epoch 167/200\n",
            "45/45 [==============================] - 0s 8ms/step - loss: 0.3882 - accuracy: 0.9796 - val_loss: 0.5941 - val_accuracy: 0.9910\n",
            "Epoch 168/200\n",
            "45/45 [==============================] - 0s 9ms/step - loss: 0.3787 - accuracy: 0.9878 - val_loss: 0.4034 - val_accuracy: 0.9970\n",
            "Epoch 169/200\n",
            "45/45 [==============================] - 0s 8ms/step - loss: 0.3949 - accuracy: 0.9842 - val_loss: 0.3294 - val_accuracy: 1.0000\n",
            "Epoch 170/200\n",
            "45/45 [==============================] - 0s 8ms/step - loss: 0.3823 - accuracy: 0.9792 - val_loss: 0.4535 - val_accuracy: 0.9940\n",
            "Epoch 171/200\n",
            "45/45 [==============================] - 0s 8ms/step - loss: 0.3638 - accuracy: 0.9874 - val_loss: 0.3721 - val_accuracy: 0.9970\n",
            "Epoch 172/200\n",
            "45/45 [==============================] - 0s 9ms/step - loss: 0.3741 - accuracy: 0.9851 - val_loss: 0.3219 - val_accuracy: 1.0000\n",
            "Epoch 173/200\n",
            "45/45 [==============================] - 0s 9ms/step - loss: 0.3717 - accuracy: 0.9871 - val_loss: 0.3318 - val_accuracy: 0.9970\n",
            "Epoch 174/200\n",
            "45/45 [==============================] - 0s 9ms/step - loss: 0.3571 - accuracy: 0.9926 - val_loss: 0.3181 - val_accuracy: 1.0000\n",
            "Epoch 175/200\n",
            "45/45 [==============================] - 0s 9ms/step - loss: 0.3897 - accuracy: 0.9797 - val_loss: 0.4409 - val_accuracy: 0.9940\n",
            "Epoch 176/200\n",
            "45/45 [==============================] - 0s 8ms/step - loss: 0.3712 - accuracy: 0.9796 - val_loss: 0.5576 - val_accuracy: 0.9910\n",
            "Epoch 177/200\n",
            "45/45 [==============================] - 0s 9ms/step - loss: 0.3974 - accuracy: 0.9863 - val_loss: 0.3936 - val_accuracy: 0.9910\n",
            "Epoch 178/200\n",
            "45/45 [==============================] - 0s 9ms/step - loss: 0.3659 - accuracy: 0.9910 - val_loss: 0.4242 - val_accuracy: 0.9940\n",
            "Epoch 179/200\n",
            "45/45 [==============================] - 0s 8ms/step - loss: 0.3599 - accuracy: 0.9896 - val_loss: 0.4183 - val_accuracy: 0.9910\n",
            "Epoch 180/200\n",
            "45/45 [==============================] - 0s 8ms/step - loss: 0.4029 - accuracy: 0.9764 - val_loss: 0.3934 - val_accuracy: 0.9970\n",
            "Epoch 181/200\n",
            "45/45 [==============================] - 0s 8ms/step - loss: 0.3737 - accuracy: 0.9854 - val_loss: 0.4881 - val_accuracy: 0.9940\n",
            "Epoch 182/200\n",
            "45/45 [==============================] - 0s 9ms/step - loss: 0.3602 - accuracy: 0.9874 - val_loss: 0.4513 - val_accuracy: 0.9910\n",
            "Epoch 183/200\n",
            "45/45 [==============================] - 0s 8ms/step - loss: 0.3743 - accuracy: 0.9810 - val_loss: 0.6220 - val_accuracy: 0.9940\n",
            "Epoch 184/200\n",
            "45/45 [==============================] - 0s 9ms/step - loss: 0.3767 - accuracy: 0.9773 - val_loss: 0.4677 - val_accuracy: 0.9940\n",
            "Epoch 185/200\n",
            "45/45 [==============================] - 0s 8ms/step - loss: 0.3544 - accuracy: 0.9855 - val_loss: 0.3820 - val_accuracy: 0.9970\n",
            "Epoch 186/200\n",
            "45/45 [==============================] - 0s 9ms/step - loss: 0.3695 - accuracy: 0.9814 - val_loss: 0.3165 - val_accuracy: 0.9970\n",
            "Epoch 187/200\n",
            "45/45 [==============================] - 0s 9ms/step - loss: 0.3577 - accuracy: 0.9872 - val_loss: 0.4213 - val_accuracy: 0.9940\n",
            "Epoch 188/200\n",
            "45/45 [==============================] - 0s 8ms/step - loss: 0.3988 - accuracy: 0.9755 - val_loss: 0.3479 - val_accuracy: 0.9970\n",
            "Epoch 189/200\n",
            "45/45 [==============================] - 0s 9ms/step - loss: 0.3518 - accuracy: 0.9879 - val_loss: 0.4137 - val_accuracy: 0.9881\n",
            "Epoch 190/200\n",
            "45/45 [==============================] - 0s 9ms/step - loss: 0.3804 - accuracy: 0.9819 - val_loss: 0.3165 - val_accuracy: 1.0000\n",
            "Epoch 191/200\n",
            "45/45 [==============================] - 0s 9ms/step - loss: 0.3677 - accuracy: 0.9826 - val_loss: 1.3790 - val_accuracy: 0.9791\n",
            "Epoch 192/200\n",
            "45/45 [==============================] - 0s 8ms/step - loss: 0.3913 - accuracy: 0.9780 - val_loss: 0.3191 - val_accuracy: 1.0000\n",
            "Epoch 193/200\n",
            "45/45 [==============================] - 0s 8ms/step - loss: 0.4141 - accuracy: 0.9765 - val_loss: 0.3196 - val_accuracy: 1.0000\n",
            "Epoch 194/200\n",
            "45/45 [==============================] - 0s 8ms/step - loss: 0.3514 - accuracy: 0.9927 - val_loss: 0.3156 - val_accuracy: 1.0000\n",
            "Epoch 195/200\n",
            "45/45 [==============================] - 0s 8ms/step - loss: 0.3687 - accuracy: 0.9796 - val_loss: 0.4320 - val_accuracy: 0.9940\n",
            "Epoch 196/200\n",
            "45/45 [==============================] - 0s 9ms/step - loss: 0.3881 - accuracy: 0.9874 - val_loss: 0.3657 - val_accuracy: 0.9940\n",
            "Epoch 197/200\n",
            "45/45 [==============================] - 0s 8ms/step - loss: 0.3575 - accuracy: 0.9848 - val_loss: 0.3208 - val_accuracy: 0.9970\n",
            "Epoch 198/200\n",
            "45/45 [==============================] - 0s 8ms/step - loss: 0.3730 - accuracy: 0.9742 - val_loss: 0.3151 - val_accuracy: 1.0000\n",
            "Epoch 199/200\n",
            "45/45 [==============================] - 0s 8ms/step - loss: 0.3763 - accuracy: 0.9833 - val_loss: 0.3876 - val_accuracy: 0.9970\n",
            "Epoch 200/200\n",
            "45/45 [==============================] - 0s 8ms/step - loss: 0.3694 - accuracy: 0.9862 - val_loss: 0.3219 - val_accuracy: 0.9970\n"
          ],
          "name": "stdout"
        }
      ]
    },
    {
      "cell_type": "code",
      "metadata": {
        "colab": {
          "base_uri": "https://localhost:8080/"
        },
        "id": "rReeJoAXV6zv",
        "outputId": "7d29f2aa-2b13-45e3-e2d3-266fa4e1db19"
      },
      "source": [
        "vali_accuracy  = model.evaluate(X_vali, Y_vali, verbose=0)\n",
        "print('%s: %.2f%%' % ('Validation Accuracy',vali_accuracy[1]*100))"
      ],
      "execution_count": null,
      "outputs": [
        {
          "output_type": "stream",
          "text": [
            "Validation Accuracy: 99.70%\n"
          ],
          "name": "stdout"
        }
      ]
    },
    {
      "cell_type": "markdown",
      "metadata": {
        "id": "cZjeuNTlirZZ"
      },
      "source": [
        "# 모델 평가 및 결과 분석"
      ]
    },
    {
      "cell_type": "markdown",
      "metadata": {
        "id": "uhxtDWyuixkA"
      },
      "source": [
        "다음은 훈련 중 loss와 accuracy가 어떻게 변했는지를 그래프로 나타내보겠습니다.\n",
        "\n",
        "학습 과정이 길다면 한 눈에 살펴볼 수 있는 좋은 방법입니다."
      ]
    },
    {
      "cell_type": "code",
      "metadata": {
        "colab": {
          "base_uri": "https://localhost:8080/",
          "height": 297
        },
        "id": "YQotUfTmitex",
        "outputId": "b0730911-2625-4457-ca31-de1747d601b9"
      },
      "source": [
        "plt.figure(figsize=(8, 4))\n",
        "plt.subplot(1, 2, 1)\n",
        "plt.title(\"Loss\")\n",
        "plt.plot(hist.history['loss'], 'b-', label=\"t\")\n",
        "plt.plot(hist.history['val_loss'], 'r-', label=\"t\")\n",
        "plt.legend(['Training','Validation'])\n",
        "\n",
        "plt.subplot(1, 2, 2)\n",
        "plt.title(\"Acc\")\n",
        "plt.plot(hist.history['accuracy'], 'b-', label=\"t\")\n",
        "plt.plot(hist.history['val_accuracy'], 'r-', label=\"t\")\n",
        "plt.legend(['Training','Validation'])\n",
        "plt.tight_layout()\n",
        "plt.show()"
      ],
      "execution_count": null,
      "outputs": [
        {
          "output_type": "display_data",
          "data": {
            "image/png": "[encoded data removed]",
            "text/plain": [
              "<Figure size 576x288 with 2 Axes>"
            ]
          },
          "metadata": {
            "tags": [],
            "needs_background": "light"
          }
        }
      ]
    },
    {
      "cell_type": "markdown",
      "metadata": {
        "id": "TcySJWZ1jK69"
      },
      "source": [
        "이제 학습이 완료되었습니다.\n",
        "\n",
        "미리 나눠둔 test set을 이용해 실제 성능을 확인해봅니다."
      ]
    },
    {
      "cell_type": "markdown",
      "metadata": {
        "id": "wo_CN5XKjSxU"
      },
      "source": [
        "테스트 결과를 바탕으로 confusion matrix를 그려봅니다.\n",
        "\n",
        "Confusion matrix는 실제 정답과 예측한 정답 사이의 관계를 나타낸 표입니다."
      ]
    },
    {
      "cell_type": "code",
      "metadata": {
        "colab": {
          "base_uri": "https://localhost:8080/",
          "height": 1000
        },
        "id": "DPUUgxBjku2L",
        "outputId": "51fc6e99-6131-4f1c-8915-9940e0292bc5"
      },
      "source": [
        "# '1'     , '2'     , '3'     , '4'     , '5'     , '6'     , '7'     , '8'     , '9'     , '10'    , '11'    , '12'    , '13'    , '14'    , '15'    , '16'    , '17'    , '18'    , '19'    , '20'    , '21'    , '22'     \n",
        "# '박경원', '김동현', '이수연', '정재원', '박성환', '심형준', '유지현', '장종빈', '임현우', '안제호', '박세진', '이민구', '김장현', '류승현', '고무현', '심대한', '김영민', '정성현', '임태윤', '진형민', '김동원', '변준(조교)'\n",
        "\n",
        "from sklearn.metrics import classification_report, confusion_matrix\n",
        "import itertools\n",
        "Y_pred = model.predict(X_train)\n",
        "y_pred = np.argmax(Y_pred, axis=1)\n",
        "y_gt = np.argmax(Y_train, axis=1)\n",
        "\n",
        "plt.figure(figsize=(8,8))\n",
        "cm = confusion_matrix(y_gt, y_pred, labels=[0,1,2,3,4,5,6,7,8,9,10,11,12,13,14,15,16,17,18,19,20,21])\n",
        "plt.imshow(cm, interpolation='nearest', cmap=plt.cm.Blues)\n",
        "plt.title(\"Confusion Matrix (Training set)\")\n",
        "plt.colorbar()\n",
        "tick_marks = np.arange(22)\n",
        "plt.xticks(tick_marks, ['1', '2', '3', '4', '5', '6', '7', '8', '9', '10', '11', '12', '13', '14', '15', '16', '17', '18', '19', '20', '21', '22'], rotation=45)\n",
        "plt.yticks(tick_marks, ['1', '2', '3', '4', '5', '6', '7', '8', '9', '10', '11', '12', '13', '14', '15', '16', '17', '18', '19', '20', '21', '22'])\n",
        "thresh = cm.max()/2.\n",
        "normalize = False\n",
        "fmt = '.2f' if normalize else 'd'\n",
        "for i,j in itertools.product(range(cm.shape[0]), range(cm.shape[1])):\n",
        "  plt.text(j,i, format(cm[i,j], fmt), horizontalalignment=\"center\", color=\"white\" if cm[i,j] > thresh else \"black\")\n",
        "plt.ylabel(\"True Label\")\n",
        "plt.xlabel(\"Predicted Label\")\n",
        "plt.tight_layout()\n",
        "\n",
        "# '1'     , '2'     , '3'     , '4'     , '5'     , '6'     , '7'     , '8'     , '9'     , '10'    , '11'    , '12'    , '13'    , '14'    , '15'    , '16'    , '17'    , '18'    , '19'    , '20'    , '21'    , '22'     \n",
        "# '박경원', '김동현', '이수연', '정재원', '박성환', '심형준', '유지현', '장종빈', '임현우', '안제호', '박세진', '이민구', '김장현', '류승현', '고무현', '심대한', '김영민', '정성현', '임태윤', '진형민', '김동원', '변준(조교)'\n",
        "Y_pred2 = model.predict(X_vali)\n",
        "y_pred2 = np.argmax(Y_pred2, axis=1)\n",
        "y_gt2 = np.argmax(Y_vali, axis=1)\n",
        "\n",
        "plt.figure(figsize=(8,8))\n",
        "cm2 = confusion_matrix(y_gt2, y_pred2, labels=[0,1,2,3,4,5,6,7,8,9,10,11,12,13,14,15,16,17,18,19,20,21])\n",
        "plt.imshow(cm2, interpolation='nearest', cmap=plt.cm.Blues)\n",
        "plt.title(\"Confusion Matrix (Validation set)\")\n",
        "plt.colorbar()\n",
        "tick_marks = np.arange(22)\n",
        "plt.xticks(tick_marks, ['1', '2', '3', '4', '5', '6', '7', '8', '9', '10', '11', '12', '13', '14', '15', '16', '17', '18', '19', '20', '21', '22'], rotation=45)\n",
        "plt.yticks(tick_marks, ['1', '2', '3', '4', '5', '6', '7', '8', '9', '10', '11', '12', '13', '14', '15', '16', '17', '18', '19', '20', '21', '22'])\n",
        "thresh2 = cm2.max()/2.\n",
        "normalize = False\n",
        "fmt = '.2f' if normalize else 'd'\n",
        "for i,j in itertools.product(range(cm2.shape[0]), range(cm2.shape[1])):\n",
        "  plt.text(j,i, format(cm2[i,j], fmt), horizontalalignment=\"center\", color=\"white\" if cm2[i,j] > thresh2 else \"black\")\n",
        "plt.ylabel(\"True Label\")\n",
        "plt.xlabel(\"Predicted Label\")\n",
        "plt.tight_layout()\n",
        "plt.show()"
      ],
      "execution_count": null,
      "outputs": [
        {
          "output_type": "display_data",
          "data": {
            "image/png": "[encoded data removed]",
            "text/plain": [
              "<Figure size 576x576 with 2 Axes>"
            ]
          },
          "metadata": {
            "tags": [],
            "needs_background": "light"
          }
        },
        {
          "output_type": "display_data",
          "data": {
            "image/png": "[encoded data removed]",
            "text/plain": [
              "<Figure size 576x576 with 2 Axes>"
            ]
          },
          "metadata": {
            "tags": [],
            "needs_background": "light"
          }
        }
      ]
    },
    {
      "cell_type": "code",
      "metadata": {
        "colab": {
          "base_uri": "https://localhost:8080/"
        },
        "id": "IgKq53xlX1Pb",
        "outputId": "590a3adc-f03d-4be5-aed6-3db442104bb7"
      },
      "source": [
        "# dictionary\n",
        "dic = {'1':'박경원', '2':'김동현', '3':'이수연', '4':'정재원', '5':'박성환', '6':'심형준', '7':'유지현', '8':'장종빈', '9':'임현우', '10':'안제호', '11':'박세진', '12':'이민구', '13':'김장현', '14':'류승현', '15':'고무현', '16':'심대한', '17':'김영민', '18':'정성현', '19':'임태윤', '20':'진형민','21':'김동원', '22':'변준(조교)'}\n",
        "\n",
        "# test\n",
        "print(dic['1'])"
      ],
      "execution_count": null,
      "outputs": [
        {
          "output_type": "stream",
          "text": [
            "박경원\n"
          ],
          "name": "stdout"
        }
      ]
    },
    {
      "cell_type": "code",
      "metadata": {
        "id": "o08NmOs3X18E"
      },
      "source": [
        "# 임의의 오디오를 특정 길이가 되도록 padding 하는 함수\n",
        "def pad_audio(audio, max_length):\n",
        "\tlength = len(audio)\n",
        "\treturn np.concatenate((audio, np.zeros((max_length-length))))"
      ],
      "execution_count": null,
      "outputs": []
    },
    {
      "cell_type": "code",
      "metadata": {
        "id": "AJkSwuqFX4zx",
        "colab": {
          "base_uri": "https://localhost:8080/"
        },
        "outputId": "af787f15-2926-4d0b-8bc7-475d18c0bdd4"
      },
      "source": [
        "import librosa\n",
        "\n",
        "# validation accuracy가 가장 높았을 때의 weights을 불어옴\n",
        "model.load_weights(checkpoint_filepath)\n",
        "\n",
        "test_acc = 0\n",
        "\n",
        "for s in range(1,23):\n",
        "      # 테스트 음원 읽기\n",
        "      (x,fs) = librosa.load('/content/drive/MyDrive/training_data_wav_16k_final/'+str(s)+'_5.wav')\n",
        "\n",
        "      # 음원 길이 맞추기\n",
        "      x = pad_audio(x, max_length)\n",
        "\n",
        "      # mfcc 특징 추출\n",
        "      mfcc = librosa.feature.mfcc(y=x, sr=fs,n_mfcc=13)\n",
        "      mfccs = mfcc - np.reshape(np.mean(mfcc,1),(13,1)) # 13 x frame_size\n",
        "      mfccs = np.transpose(mfccs)\n",
        "\n",
        "      # 특징 입력 reshaping\n",
        "      X_input = np.expand_dims(mfccs, axis=0)\n",
        "      X_input = np.expand_dims(X_input, axis=3)\n",
        "      X_input = np.transpose(X_input, (0, 2, 1, 3))\n",
        "      \n",
        "      # DNN 예측\n",
        "      Y_pred = model.predict(X_input)\n",
        "      y_pred = np.argmax(Y_pred, axis=1)\n",
        "\n",
        "      #print(s)\n",
        "      #print(y_pred)\n",
        "      print('정답: '+dic[str(s)] + '/ 예측: ' + dic[str(y_pred[0]+1)])\n",
        "      if (s-1) == y_pred:\n",
        "        test_acc += 1\n",
        "\n",
        "# 22명에 대하여 평균\n",
        "test_acc /= 22\n",
        "test_acc *= 100 # 백분율로 변환\n",
        "\n",
        "print('테스트 예측 정확도 = ' + str(test_acc)+'%')"
      ],
      "execution_count": null,
      "outputs": [
        {
          "output_type": "stream",
          "text": [
            "정답: 박경원/ 예측: 박경원\n",
            "정답: 김동현/ 예측: 김동현\n",
            "정답: 이수연/ 예측: 이수연\n",
            "정답: 정재원/ 예측: 정재원\n",
            "정답: 박성환/ 예측: 박성환\n",
            "정답: 심형준/ 예측: 심형준\n",
            "정답: 유지현/ 예측: 유지현\n",
            "정답: 장종빈/ 예측: 장종빈\n",
            "정답: 임현우/ 예측: 임현우\n",
            "정답: 안제호/ 예측: 안제호\n",
            "정답: 박세진/ 예측: 박세진\n",
            "정답: 이민구/ 예측: 이민구\n",
            "정답: 김장현/ 예측: 김장현\n",
            "정답: 류승현/ 예측: 류승현\n",
            "정답: 고무현/ 예측: 고무현\n",
            "정답: 심대한/ 예측: 심대한\n",
            "정답: 김영민/ 예측: 김영민\n",
            "정답: 정성현/ 예측: 정성현\n",
            "정답: 임태윤/ 예측: 임태윤\n",
            "정답: 진형민/ 예측: 진형민\n",
            "정답: 김동원/ 예측: 김동원\n",
            "정답: 변준(조교)/ 예측: 변준(조교)\n",
            "테스트 예측 정확도 = 100.0%\n"
          ],
          "name": "stdout"
        }
      ]
    },
    {
      "cell_type": "markdown",
      "metadata": {
        "id": "xX-KVJPUpYHI"
      },
      "source": [
        "# training된 모델을 HDF5 파일로 저장합니다"
      ]
    },
    {
      "cell_type": "code",
      "metadata": {
        "id": "3QxumlLqwTBW"
      },
      "source": [
        "#model.save('/content/drive/MyDrive/final.h5')\n",
        "\n",
        "#따로 모델명 바꾸면 따로 저장 가능"
      ],
      "execution_count": null,
      "outputs": []
    },
    {
      "cell_type": "code",
      "metadata": {
        "id": "hdnlBu7MUA9o"
      },
      "source": [
        ""
      ],
      "execution_count": null,
      "outputs": []
    }
  ]
}